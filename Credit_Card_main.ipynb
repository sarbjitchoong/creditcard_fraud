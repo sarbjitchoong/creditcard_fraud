{
 "cells": [
  {
   "cell_type": "markdown",
   "id": "ebadd590",
   "metadata": {},
   "source": [
    "# CREDIT CARD FRAUD DETECTION"
   ]
  },
  {
   "cell_type": "markdown",
   "id": "0af2280e",
   "metadata": {},
   "source": [
    "### --- Undersampling Approach ---"
   ]
  },
  {
   "cell_type": "markdown",
   "id": "3c63946b",
   "metadata": {},
   "source": [
    "<p style='text-align: justify;'>Banks and credit card companies want to stop fraud from happening to their customers. As more and more people buy things online, it's important to have a good system in place to catch fraud. That's why they're working on a project to make their fraud detection better. \n",
    "\n",
    "The goal of this project is to make a system that can tell when someone is using a credit card fraudulently, so that the real card owner is not charged for something they didn't buy. The system uses regression models to look at the credit card data and figure out if there's something suspicious going on. Regression appraoches are utilized to analyze transaction data, identify patterns, and predict the likelihood of fraudulent activity.\n",
    "\n",
    "By constantly checking credit card transactions as they happen, the system can quickly tell the bank or credit card company if something seems wrong. This helps protect the customer's money and keeps the whole financial system honest.</p>"
   ]
  },
  {
   "cell_type": "markdown",
   "id": "cd4fa80b",
   "metadata": {},
   "source": [
    "### LIBRARIES IMPORTED"
   ]
  },
  {
   "cell_type": "code",
   "execution_count": 1,
   "id": "13010fc8",
   "metadata": {},
   "outputs": [],
   "source": [
    "import matplotlib.pyplot as plt\n",
    "import pandas as pd\n",
    "import numpy as np\n",
    "import scipy.stats\n",
    "import seaborn as sns\n",
    "import sklearn.linear_model\n",
    "from sklearn.model_selection import train_test_split\n",
    "from sklearn.tree import DecisionTreeClassifier\n",
    "from sklearn.linear_model import LogisticRegression\n",
    "from sklearn.metrics import classification_report\n",
    "from sklearn.metrics import confusion_matrix\n",
    "import statsmodels.api as sm"
   ]
  },
  {
   "cell_type": "markdown",
   "id": "4849aab0",
   "metadata": {},
   "source": [
    "### DATA INFORMATION"
   ]
  },
  {
   "cell_type": "markdown",
   "id": "c127ba9c",
   "metadata": {},
   "source": [
    "The dataset shows credit card transcations made by European cardholders in September 2013. It comprises of 284,807 entries all in numerical values and 31 columns. Original data features and other background information are not provided because of confidentiality concerns. \n",
    " \n",
    "**Column Names and Description:**\n",
    "<br>**Time** - this column includes the number of seconds that have passed between each transaction.\n",
    "<br>**Amount** - this column includes the amount in the transaction\n",
    "<br>**V1-V28** - these columns includes all the confidential data transformed with PCA.\n",
    "<br>**Class** - this is a binary representation of the fraudulent transactions where 1 means fraud and 0 means non-fraud.\n",
    "\n",
    "The original dataset is already clean and there are no null or missing values."
   ]
  },
  {
   "cell_type": "code",
   "execution_count": 2,
   "id": "85a8fbee",
   "metadata": {},
   "outputs": [],
   "source": [
    "df = pd.read_csv(\"creditcard.csv\")"
   ]
  },
  {
   "cell_type": "code",
   "execution_count": 3,
   "id": "b01f23eb",
   "metadata": {
    "scrolled": false
   },
   "outputs": [
    {
     "data": {
      "text/html": [
       "<div>\n",
       "<style scoped>\n",
       "    .dataframe tbody tr th:only-of-type {\n",
       "        vertical-align: middle;\n",
       "    }\n",
       "\n",
       "    .dataframe tbody tr th {\n",
       "        vertical-align: top;\n",
       "    }\n",
       "\n",
       "    .dataframe thead th {\n",
       "        text-align: right;\n",
       "    }\n",
       "</style>\n",
       "<table border=\"1\" class=\"dataframe\">\n",
       "  <thead>\n",
       "    <tr style=\"text-align: right;\">\n",
       "      <th></th>\n",
       "      <th>Time</th>\n",
       "      <th>V1</th>\n",
       "      <th>V2</th>\n",
       "      <th>V3</th>\n",
       "      <th>V4</th>\n",
       "      <th>V5</th>\n",
       "      <th>V6</th>\n",
       "      <th>V7</th>\n",
       "      <th>V8</th>\n",
       "      <th>V9</th>\n",
       "      <th>...</th>\n",
       "      <th>V21</th>\n",
       "      <th>V22</th>\n",
       "      <th>V23</th>\n",
       "      <th>V24</th>\n",
       "      <th>V25</th>\n",
       "      <th>V26</th>\n",
       "      <th>V27</th>\n",
       "      <th>V28</th>\n",
       "      <th>Amount</th>\n",
       "      <th>Class</th>\n",
       "    </tr>\n",
       "  </thead>\n",
       "  <tbody>\n",
       "    <tr>\n",
       "      <th>0</th>\n",
       "      <td>0.0</td>\n",
       "      <td>-1.359807</td>\n",
       "      <td>-0.072781</td>\n",
       "      <td>2.536347</td>\n",
       "      <td>1.378155</td>\n",
       "      <td>-0.338321</td>\n",
       "      <td>0.462388</td>\n",
       "      <td>0.239599</td>\n",
       "      <td>0.098698</td>\n",
       "      <td>0.363787</td>\n",
       "      <td>...</td>\n",
       "      <td>-0.018307</td>\n",
       "      <td>0.277838</td>\n",
       "      <td>-0.110474</td>\n",
       "      <td>0.066928</td>\n",
       "      <td>0.128539</td>\n",
       "      <td>-0.189115</td>\n",
       "      <td>0.133558</td>\n",
       "      <td>-0.021053</td>\n",
       "      <td>149.62</td>\n",
       "      <td>0</td>\n",
       "    </tr>\n",
       "    <tr>\n",
       "      <th>1</th>\n",
       "      <td>0.0</td>\n",
       "      <td>1.191857</td>\n",
       "      <td>0.266151</td>\n",
       "      <td>0.166480</td>\n",
       "      <td>0.448154</td>\n",
       "      <td>0.060018</td>\n",
       "      <td>-0.082361</td>\n",
       "      <td>-0.078803</td>\n",
       "      <td>0.085102</td>\n",
       "      <td>-0.255425</td>\n",
       "      <td>...</td>\n",
       "      <td>-0.225775</td>\n",
       "      <td>-0.638672</td>\n",
       "      <td>0.101288</td>\n",
       "      <td>-0.339846</td>\n",
       "      <td>0.167170</td>\n",
       "      <td>0.125895</td>\n",
       "      <td>-0.008983</td>\n",
       "      <td>0.014724</td>\n",
       "      <td>2.69</td>\n",
       "      <td>0</td>\n",
       "    </tr>\n",
       "    <tr>\n",
       "      <th>2</th>\n",
       "      <td>1.0</td>\n",
       "      <td>-1.358354</td>\n",
       "      <td>-1.340163</td>\n",
       "      <td>1.773209</td>\n",
       "      <td>0.379780</td>\n",
       "      <td>-0.503198</td>\n",
       "      <td>1.800499</td>\n",
       "      <td>0.791461</td>\n",
       "      <td>0.247676</td>\n",
       "      <td>-1.514654</td>\n",
       "      <td>...</td>\n",
       "      <td>0.247998</td>\n",
       "      <td>0.771679</td>\n",
       "      <td>0.909412</td>\n",
       "      <td>-0.689281</td>\n",
       "      <td>-0.327642</td>\n",
       "      <td>-0.139097</td>\n",
       "      <td>-0.055353</td>\n",
       "      <td>-0.059752</td>\n",
       "      <td>378.66</td>\n",
       "      <td>0</td>\n",
       "    </tr>\n",
       "    <tr>\n",
       "      <th>3</th>\n",
       "      <td>1.0</td>\n",
       "      <td>-0.966272</td>\n",
       "      <td>-0.185226</td>\n",
       "      <td>1.792993</td>\n",
       "      <td>-0.863291</td>\n",
       "      <td>-0.010309</td>\n",
       "      <td>1.247203</td>\n",
       "      <td>0.237609</td>\n",
       "      <td>0.377436</td>\n",
       "      <td>-1.387024</td>\n",
       "      <td>...</td>\n",
       "      <td>-0.108300</td>\n",
       "      <td>0.005274</td>\n",
       "      <td>-0.190321</td>\n",
       "      <td>-1.175575</td>\n",
       "      <td>0.647376</td>\n",
       "      <td>-0.221929</td>\n",
       "      <td>0.062723</td>\n",
       "      <td>0.061458</td>\n",
       "      <td>123.50</td>\n",
       "      <td>0</td>\n",
       "    </tr>\n",
       "    <tr>\n",
       "      <th>4</th>\n",
       "      <td>2.0</td>\n",
       "      <td>-1.158233</td>\n",
       "      <td>0.877737</td>\n",
       "      <td>1.548718</td>\n",
       "      <td>0.403034</td>\n",
       "      <td>-0.407193</td>\n",
       "      <td>0.095921</td>\n",
       "      <td>0.592941</td>\n",
       "      <td>-0.270533</td>\n",
       "      <td>0.817739</td>\n",
       "      <td>...</td>\n",
       "      <td>-0.009431</td>\n",
       "      <td>0.798278</td>\n",
       "      <td>-0.137458</td>\n",
       "      <td>0.141267</td>\n",
       "      <td>-0.206010</td>\n",
       "      <td>0.502292</td>\n",
       "      <td>0.219422</td>\n",
       "      <td>0.215153</td>\n",
       "      <td>69.99</td>\n",
       "      <td>0</td>\n",
       "    </tr>\n",
       "  </tbody>\n",
       "</table>\n",
       "<p>5 rows × 31 columns</p>\n",
       "</div>"
      ],
      "text/plain": [
       "   Time        V1        V2        V3        V4        V5        V6        V7  \\\n",
       "0   0.0 -1.359807 -0.072781  2.536347  1.378155 -0.338321  0.462388  0.239599   \n",
       "1   0.0  1.191857  0.266151  0.166480  0.448154  0.060018 -0.082361 -0.078803   \n",
       "2   1.0 -1.358354 -1.340163  1.773209  0.379780 -0.503198  1.800499  0.791461   \n",
       "3   1.0 -0.966272 -0.185226  1.792993 -0.863291 -0.010309  1.247203  0.237609   \n",
       "4   2.0 -1.158233  0.877737  1.548718  0.403034 -0.407193  0.095921  0.592941   \n",
       "\n",
       "         V8        V9  ...       V21       V22       V23       V24       V25  \\\n",
       "0  0.098698  0.363787  ... -0.018307  0.277838 -0.110474  0.066928  0.128539   \n",
       "1  0.085102 -0.255425  ... -0.225775 -0.638672  0.101288 -0.339846  0.167170   \n",
       "2  0.247676 -1.514654  ...  0.247998  0.771679  0.909412 -0.689281 -0.327642   \n",
       "3  0.377436 -1.387024  ... -0.108300  0.005274 -0.190321 -1.175575  0.647376   \n",
       "4 -0.270533  0.817739  ... -0.009431  0.798278 -0.137458  0.141267 -0.206010   \n",
       "\n",
       "        V26       V27       V28  Amount  Class  \n",
       "0 -0.189115  0.133558 -0.021053  149.62      0  \n",
       "1  0.125895 -0.008983  0.014724    2.69      0  \n",
       "2 -0.139097 -0.055353 -0.059752  378.66      0  \n",
       "3 -0.221929  0.062723  0.061458  123.50      0  \n",
       "4  0.502292  0.219422  0.215153   69.99      0  \n",
       "\n",
       "[5 rows x 31 columns]"
      ]
     },
     "execution_count": 3,
     "metadata": {},
     "output_type": "execute_result"
    }
   ],
   "source": [
    "df.head()"
   ]
  },
  {
   "cell_type": "code",
   "execution_count": 4,
   "id": "1cd3898c",
   "metadata": {},
   "outputs": [
    {
     "name": "stdout",
     "output_type": "stream",
     "text": [
      "\n",
      " \u001b[1m1,081 duplicate values were removed.\u001b[0m\n"
     ]
    }
   ],
   "source": [
    "# Removing duplicates\n",
    "\n",
    "df.drop_duplicates(inplace = True)\n",
    "print(\"\\n\", '\\033[1m' +'1,081 duplicate values were removed.' + '\\033[0m')\n"
   ]
  },
  {
   "cell_type": "code",
   "execution_count": 5,
   "id": "8b9542f1",
   "metadata": {},
   "outputs": [
    {
     "name": "stdout",
     "output_type": "stream",
     "text": [
      "<class 'pandas.core.frame.DataFrame'>\n",
      "Int64Index: 283726 entries, 0 to 284806\n",
      "Data columns (total 31 columns):\n",
      " #   Column  Non-Null Count   Dtype  \n",
      "---  ------  --------------   -----  \n",
      " 0   Time    283726 non-null  float64\n",
      " 1   V1      283726 non-null  float64\n",
      " 2   V2      283726 non-null  float64\n",
      " 3   V3      283726 non-null  float64\n",
      " 4   V4      283726 non-null  float64\n",
      " 5   V5      283726 non-null  float64\n",
      " 6   V6      283726 non-null  float64\n",
      " 7   V7      283726 non-null  float64\n",
      " 8   V8      283726 non-null  float64\n",
      " 9   V9      283726 non-null  float64\n",
      " 10  V10     283726 non-null  float64\n",
      " 11  V11     283726 non-null  float64\n",
      " 12  V12     283726 non-null  float64\n",
      " 13  V13     283726 non-null  float64\n",
      " 14  V14     283726 non-null  float64\n",
      " 15  V15     283726 non-null  float64\n",
      " 16  V16     283726 non-null  float64\n",
      " 17  V17     283726 non-null  float64\n",
      " 18  V18     283726 non-null  float64\n",
      " 19  V19     283726 non-null  float64\n",
      " 20  V20     283726 non-null  float64\n",
      " 21  V21     283726 non-null  float64\n",
      " 22  V22     283726 non-null  float64\n",
      " 23  V23     283726 non-null  float64\n",
      " 24  V24     283726 non-null  float64\n",
      " 25  V25     283726 non-null  float64\n",
      " 26  V26     283726 non-null  float64\n",
      " 27  V27     283726 non-null  float64\n",
      " 28  V28     283726 non-null  float64\n",
      " 29  Amount  283726 non-null  float64\n",
      " 30  Class   283726 non-null  int64  \n",
      "dtypes: float64(30), int64(1)\n",
      "memory usage: 69.3 MB\n",
      "None\n"
     ]
    }
   ],
   "source": [
    "# Checking the column names and information\n",
    "\n",
    "print(df.info())"
   ]
  },
  {
   "cell_type": "code",
   "execution_count": 6,
   "id": "620f726b",
   "metadata": {},
   "outputs": [
    {
     "data": {
      "text/html": [
       "<div>\n",
       "<style scoped>\n",
       "    .dataframe tbody tr th:only-of-type {\n",
       "        vertical-align: middle;\n",
       "    }\n",
       "\n",
       "    .dataframe tbody tr th {\n",
       "        vertical-align: top;\n",
       "    }\n",
       "\n",
       "    .dataframe thead th {\n",
       "        text-align: right;\n",
       "    }\n",
       "</style>\n",
       "<table border=\"1\" class=\"dataframe\">\n",
       "  <thead>\n",
       "    <tr style=\"text-align: right;\">\n",
       "      <th></th>\n",
       "      <th>Time</th>\n",
       "      <th>V1</th>\n",
       "      <th>V2</th>\n",
       "      <th>V3</th>\n",
       "      <th>V4</th>\n",
       "      <th>V5</th>\n",
       "      <th>V6</th>\n",
       "      <th>V7</th>\n",
       "      <th>V8</th>\n",
       "      <th>V9</th>\n",
       "      <th>...</th>\n",
       "      <th>V21</th>\n",
       "      <th>V22</th>\n",
       "      <th>V23</th>\n",
       "      <th>V24</th>\n",
       "      <th>V25</th>\n",
       "      <th>V26</th>\n",
       "      <th>V27</th>\n",
       "      <th>V28</th>\n",
       "      <th>Amount</th>\n",
       "      <th>Class</th>\n",
       "    </tr>\n",
       "  </thead>\n",
       "  <tbody>\n",
       "    <tr>\n",
       "      <th>count</th>\n",
       "      <td>283726.000000</td>\n",
       "      <td>283726.000000</td>\n",
       "      <td>283726.000000</td>\n",
       "      <td>283726.000000</td>\n",
       "      <td>283726.000000</td>\n",
       "      <td>283726.000000</td>\n",
       "      <td>283726.000000</td>\n",
       "      <td>283726.000000</td>\n",
       "      <td>283726.000000</td>\n",
       "      <td>283726.000000</td>\n",
       "      <td>...</td>\n",
       "      <td>283726.000000</td>\n",
       "      <td>283726.000000</td>\n",
       "      <td>283726.000000</td>\n",
       "      <td>283726.000000</td>\n",
       "      <td>283726.000000</td>\n",
       "      <td>283726.000000</td>\n",
       "      <td>283726.000000</td>\n",
       "      <td>283726.000000</td>\n",
       "      <td>283726.000000</td>\n",
       "      <td>283726.000000</td>\n",
       "    </tr>\n",
       "    <tr>\n",
       "      <th>mean</th>\n",
       "      <td>94811.077600</td>\n",
       "      <td>0.005917</td>\n",
       "      <td>-0.004135</td>\n",
       "      <td>0.001613</td>\n",
       "      <td>-0.002966</td>\n",
       "      <td>0.001828</td>\n",
       "      <td>-0.001139</td>\n",
       "      <td>0.001801</td>\n",
       "      <td>-0.000854</td>\n",
       "      <td>-0.001596</td>\n",
       "      <td>...</td>\n",
       "      <td>-0.000371</td>\n",
       "      <td>-0.000015</td>\n",
       "      <td>0.000198</td>\n",
       "      <td>0.000214</td>\n",
       "      <td>-0.000232</td>\n",
       "      <td>0.000149</td>\n",
       "      <td>0.001763</td>\n",
       "      <td>0.000547</td>\n",
       "      <td>88.472687</td>\n",
       "      <td>0.001667</td>\n",
       "    </tr>\n",
       "    <tr>\n",
       "      <th>std</th>\n",
       "      <td>47481.047891</td>\n",
       "      <td>1.948026</td>\n",
       "      <td>1.646703</td>\n",
       "      <td>1.508682</td>\n",
       "      <td>1.414184</td>\n",
       "      <td>1.377008</td>\n",
       "      <td>1.331931</td>\n",
       "      <td>1.227664</td>\n",
       "      <td>1.179054</td>\n",
       "      <td>1.095492</td>\n",
       "      <td>...</td>\n",
       "      <td>0.723909</td>\n",
       "      <td>0.724550</td>\n",
       "      <td>0.623702</td>\n",
       "      <td>0.605627</td>\n",
       "      <td>0.521220</td>\n",
       "      <td>0.482053</td>\n",
       "      <td>0.395744</td>\n",
       "      <td>0.328027</td>\n",
       "      <td>250.399437</td>\n",
       "      <td>0.040796</td>\n",
       "    </tr>\n",
       "    <tr>\n",
       "      <th>min</th>\n",
       "      <td>0.000000</td>\n",
       "      <td>-56.407510</td>\n",
       "      <td>-72.715728</td>\n",
       "      <td>-48.325589</td>\n",
       "      <td>-5.683171</td>\n",
       "      <td>-113.743307</td>\n",
       "      <td>-26.160506</td>\n",
       "      <td>-43.557242</td>\n",
       "      <td>-73.216718</td>\n",
       "      <td>-13.434066</td>\n",
       "      <td>...</td>\n",
       "      <td>-34.830382</td>\n",
       "      <td>-10.933144</td>\n",
       "      <td>-44.807735</td>\n",
       "      <td>-2.836627</td>\n",
       "      <td>-10.295397</td>\n",
       "      <td>-2.604551</td>\n",
       "      <td>-22.565679</td>\n",
       "      <td>-15.430084</td>\n",
       "      <td>0.000000</td>\n",
       "      <td>0.000000</td>\n",
       "    </tr>\n",
       "    <tr>\n",
       "      <th>25%</th>\n",
       "      <td>54204.750000</td>\n",
       "      <td>-0.915951</td>\n",
       "      <td>-0.600321</td>\n",
       "      <td>-0.889682</td>\n",
       "      <td>-0.850134</td>\n",
       "      <td>-0.689830</td>\n",
       "      <td>-0.769031</td>\n",
       "      <td>-0.552509</td>\n",
       "      <td>-0.208828</td>\n",
       "      <td>-0.644221</td>\n",
       "      <td>...</td>\n",
       "      <td>-0.228305</td>\n",
       "      <td>-0.542700</td>\n",
       "      <td>-0.161703</td>\n",
       "      <td>-0.354453</td>\n",
       "      <td>-0.317485</td>\n",
       "      <td>-0.326763</td>\n",
       "      <td>-0.070641</td>\n",
       "      <td>-0.052818</td>\n",
       "      <td>5.600000</td>\n",
       "      <td>0.000000</td>\n",
       "    </tr>\n",
       "    <tr>\n",
       "      <th>50%</th>\n",
       "      <td>84692.500000</td>\n",
       "      <td>0.020384</td>\n",
       "      <td>0.063949</td>\n",
       "      <td>0.179963</td>\n",
       "      <td>-0.022248</td>\n",
       "      <td>-0.053468</td>\n",
       "      <td>-0.275168</td>\n",
       "      <td>0.040859</td>\n",
       "      <td>0.021898</td>\n",
       "      <td>-0.052596</td>\n",
       "      <td>...</td>\n",
       "      <td>-0.029441</td>\n",
       "      <td>0.006675</td>\n",
       "      <td>-0.011159</td>\n",
       "      <td>0.041016</td>\n",
       "      <td>0.016278</td>\n",
       "      <td>-0.052172</td>\n",
       "      <td>0.001479</td>\n",
       "      <td>0.011288</td>\n",
       "      <td>22.000000</td>\n",
       "      <td>0.000000</td>\n",
       "    </tr>\n",
       "    <tr>\n",
       "      <th>75%</th>\n",
       "      <td>139298.000000</td>\n",
       "      <td>1.316068</td>\n",
       "      <td>0.800283</td>\n",
       "      <td>1.026960</td>\n",
       "      <td>0.739647</td>\n",
       "      <td>0.612218</td>\n",
       "      <td>0.396792</td>\n",
       "      <td>0.570474</td>\n",
       "      <td>0.325704</td>\n",
       "      <td>0.595977</td>\n",
       "      <td>...</td>\n",
       "      <td>0.186194</td>\n",
       "      <td>0.528245</td>\n",
       "      <td>0.147748</td>\n",
       "      <td>0.439738</td>\n",
       "      <td>0.350667</td>\n",
       "      <td>0.240261</td>\n",
       "      <td>0.091208</td>\n",
       "      <td>0.078276</td>\n",
       "      <td>77.510000</td>\n",
       "      <td>0.000000</td>\n",
       "    </tr>\n",
       "    <tr>\n",
       "      <th>max</th>\n",
       "      <td>172792.000000</td>\n",
       "      <td>2.454930</td>\n",
       "      <td>22.057729</td>\n",
       "      <td>9.382558</td>\n",
       "      <td>16.875344</td>\n",
       "      <td>34.801666</td>\n",
       "      <td>73.301626</td>\n",
       "      <td>120.589494</td>\n",
       "      <td>20.007208</td>\n",
       "      <td>15.594995</td>\n",
       "      <td>...</td>\n",
       "      <td>27.202839</td>\n",
       "      <td>10.503090</td>\n",
       "      <td>22.528412</td>\n",
       "      <td>4.584549</td>\n",
       "      <td>7.519589</td>\n",
       "      <td>3.517346</td>\n",
       "      <td>31.612198</td>\n",
       "      <td>33.847808</td>\n",
       "      <td>25691.160000</td>\n",
       "      <td>1.000000</td>\n",
       "    </tr>\n",
       "  </tbody>\n",
       "</table>\n",
       "<p>8 rows × 31 columns</p>\n",
       "</div>"
      ],
      "text/plain": [
       "                Time             V1             V2             V3  \\\n",
       "count  283726.000000  283726.000000  283726.000000  283726.000000   \n",
       "mean    94811.077600       0.005917      -0.004135       0.001613   \n",
       "std     47481.047891       1.948026       1.646703       1.508682   \n",
       "min         0.000000     -56.407510     -72.715728     -48.325589   \n",
       "25%     54204.750000      -0.915951      -0.600321      -0.889682   \n",
       "50%     84692.500000       0.020384       0.063949       0.179963   \n",
       "75%    139298.000000       1.316068       0.800283       1.026960   \n",
       "max    172792.000000       2.454930      22.057729       9.382558   \n",
       "\n",
       "                  V4             V5             V6             V7  \\\n",
       "count  283726.000000  283726.000000  283726.000000  283726.000000   \n",
       "mean       -0.002966       0.001828      -0.001139       0.001801   \n",
       "std         1.414184       1.377008       1.331931       1.227664   \n",
       "min        -5.683171    -113.743307     -26.160506     -43.557242   \n",
       "25%        -0.850134      -0.689830      -0.769031      -0.552509   \n",
       "50%        -0.022248      -0.053468      -0.275168       0.040859   \n",
       "75%         0.739647       0.612218       0.396792       0.570474   \n",
       "max        16.875344      34.801666      73.301626     120.589494   \n",
       "\n",
       "                  V8             V9  ...            V21            V22  \\\n",
       "count  283726.000000  283726.000000  ...  283726.000000  283726.000000   \n",
       "mean       -0.000854      -0.001596  ...      -0.000371      -0.000015   \n",
       "std         1.179054       1.095492  ...       0.723909       0.724550   \n",
       "min       -73.216718     -13.434066  ...     -34.830382     -10.933144   \n",
       "25%        -0.208828      -0.644221  ...      -0.228305      -0.542700   \n",
       "50%         0.021898      -0.052596  ...      -0.029441       0.006675   \n",
       "75%         0.325704       0.595977  ...       0.186194       0.528245   \n",
       "max        20.007208      15.594995  ...      27.202839      10.503090   \n",
       "\n",
       "                 V23            V24            V25            V26  \\\n",
       "count  283726.000000  283726.000000  283726.000000  283726.000000   \n",
       "mean        0.000198       0.000214      -0.000232       0.000149   \n",
       "std         0.623702       0.605627       0.521220       0.482053   \n",
       "min       -44.807735      -2.836627     -10.295397      -2.604551   \n",
       "25%        -0.161703      -0.354453      -0.317485      -0.326763   \n",
       "50%        -0.011159       0.041016       0.016278      -0.052172   \n",
       "75%         0.147748       0.439738       0.350667       0.240261   \n",
       "max        22.528412       4.584549       7.519589       3.517346   \n",
       "\n",
       "                 V27            V28         Amount          Class  \n",
       "count  283726.000000  283726.000000  283726.000000  283726.000000  \n",
       "mean        0.001763       0.000547      88.472687       0.001667  \n",
       "std         0.395744       0.328027     250.399437       0.040796  \n",
       "min       -22.565679     -15.430084       0.000000       0.000000  \n",
       "25%        -0.070641      -0.052818       5.600000       0.000000  \n",
       "50%         0.001479       0.011288      22.000000       0.000000  \n",
       "75%         0.091208       0.078276      77.510000       0.000000  \n",
       "max        31.612198      33.847808   25691.160000       1.000000  \n",
       "\n",
       "[8 rows x 31 columns]"
      ]
     },
     "execution_count": 6,
     "metadata": {},
     "output_type": "execute_result"
    }
   ],
   "source": [
    "# Checking the basic statistics of the numerical columns\n",
    "\n",
    "df.describe()"
   ]
  },
  {
   "cell_type": "code",
   "execution_count": 7,
   "id": "53530c49",
   "metadata": {},
   "outputs": [],
   "source": [
    "df[\"Transaction\"] = np.where(df[\"Class\"]== 0, \"Valid\", \"Fraud\")"
   ]
  },
  {
   "cell_type": "code",
   "execution_count": 8,
   "id": "89adc5ce",
   "metadata": {},
   "outputs": [
    {
     "name": "stdout",
     "output_type": "stream",
     "text": [
      "\n",
      " \u001b[1mStatistics of all Non-fraudulent transcations under Amount column:\u001b[0m\n",
      "\n",
      " count    283253.000000\n",
      "mean         88.413575\n",
      "std         250.379023\n",
      "min           0.000000\n",
      "25%           5.670000\n",
      "50%          22.000000\n",
      "75%          77.460000\n",
      "max       25691.160000\n",
      "Name: Amount, dtype: float64 \n",
      "\n",
      "-------------------------------------------------------------------------------\n",
      "\n",
      " \u001b[1mStatistics of all Fraudulent transcations under Amount column:\u001b[0m\n",
      "\n",
      " count     473.000000\n",
      "mean      123.871860\n",
      "std       260.211041\n",
      "min         0.000000\n",
      "25%         1.000000\n",
      "50%         9.820000\n",
      "75%       105.890000\n",
      "max      2125.870000\n",
      "Name: Amount, dtype: float64\n"
     ]
    }
   ],
   "source": [
    "# Categorizing data\n",
    "\n",
    "valid = df[df.Class == 0]\n",
    "fraud = df[df.Class == 1]\n",
    "print(\"\\n\", '\\033[1m' + 'Statistics of all Non-fraudulent transcations under Amount column:' + '\\033[0m')\n",
    "print(\"\\n\", valid[\"Amount\"].describe(),\"\\n\")\n",
    "print(\"-------------------------------------------------------------------------------\")\n",
    "print(\"\\n\", '\\033[1m' + 'Statistics of all Fraudulent transcations under Amount column:' + '\\033[0m')\n",
    "print(\"\\n\", fraud[\"Amount\"].describe())"
   ]
  },
  {
   "cell_type": "code",
   "execution_count": 9,
   "id": "4265109a",
   "metadata": {
    "scrolled": true
   },
   "outputs": [
    {
     "name": "stdout",
     "output_type": "stream",
     "text": [
      "\n",
      " \u001b[1mThe distinct values for column Class are:\u001b[0m\n",
      "\n",
      " [0 1] \n",
      "\n",
      "-------------------------------------------------------------------------------\n",
      "\n",
      " \u001b[1mThe distribution of the frequency for column Class are:\u001b[0m\n",
      "\n",
      " 0    283253\n",
      "1       473\n",
      "Name: Class, dtype: int64\n"
     ]
    }
   ],
   "source": [
    "# Checking the distribution frequency of class name.\n",
    "print(\"\\n\", '\\033[1m' + 'The distinct values for column Class are:' + '\\033[0m')\n",
    "print(\"\\n\", df[\"Class\"].unique(),\"\\n\")\n",
    "print(\"-------------------------------------------------------------------------------\")\n",
    "print(\"\\n\", '\\033[1m' + 'The distribution of the frequency for column Class are:' + '\\033[0m')\n",
    "print(\"\\n\",df.Class.value_counts())"
   ]
  },
  {
   "cell_type": "code",
   "execution_count": 10,
   "id": "425fff6a",
   "metadata": {},
   "outputs": [
    {
     "name": "stdout",
     "output_type": "stream",
     "text": [
      "\n",
      " \u001b[1mThe percentage of the recorded transactions:\u001b[0m\n",
      "\n",
      " 99.8% are valid \n",
      " 0.2% are fraudulent\n",
      "\n",
      " -----------------------------------------------\n"
     ]
    },
    {
     "data": {
      "text/plain": [
       "Text(0.5, 1.0, 'Data Distribution')"
      ]
     },
     "execution_count": 10,
     "metadata": {},
     "output_type": "execute_result"
    },
    {
     "data": {
      "image/png": "[encoded data removed]",
      "text/plain": [
       "<Figure size 432x576 with 1 Axes>"
      ]
     },
     "metadata": {},
     "output_type": "display_data"
    }
   ],
   "source": [
    "print(\"\\n\", '\\033[1m' + 'The percentage of the recorded transactions:' + '\\033[0m')\n",
    "print(\"\\n\",\"99.8% are valid\", \"\\n\", \"0.2% are fraudulent\")\n",
    "print(\"\\n\", \"-----------------------------------------------\")\n",
    "df.groupby('Transaction').size().plot(kind='pie', autopct='%.1f%%',figsize=(6, 8),textprops={'size': 'large'},wedgeprops={'linewidth': 2.0})\n",
    "plt.title('Data Distribution', size = 20)"
   ]
  },
  {
   "cell_type": "code",
   "execution_count": 11,
   "id": "8bdb9653",
   "metadata": {},
   "outputs": [
    {
     "data": {
      "text/plain": [
       "<AxesSubplot:xlabel='Transaction', ylabel='count'>"
      ]
     },
     "execution_count": 11,
     "metadata": {},
     "output_type": "execute_result"
    },
    {
     "data": {
      "image/png": "[encoded data removed]",
      "text/plain": [
       "<Figure size 432x288 with 1 Axes>"
      ]
     },
     "metadata": {
      "needs_background": "light"
     },
     "output_type": "display_data"
    }
   ],
   "source": [
    "sns.countplot(data=df, x=\"Transaction\")"
   ]
  },
  {
   "cell_type": "markdown",
   "id": "7b91ed18",
   "metadata": {},
   "source": [
    "#### Distribution Check per Column"
   ]
  },
  {
   "cell_type": "code",
   "execution_count": 12,
   "id": "5806d904",
   "metadata": {},
   "outputs": [
    {
     "name": "stdout",
     "output_type": "stream",
     "text": [
      "\n",
      " \u001b[1mSample Graphs\u001b[0m\n"
     ]
    },
    {
     "data": {
      "image/png": "[encoded data removed]",
      "text/plain": [
       "<Figure size 360x360 with 1 Axes>"
      ]
     },
     "metadata": {
      "needs_background": "light"
     },
     "output_type": "display_data"
    },
    {
     "data": {
      "image/png": "[encoded data removed]",
      "text/plain": [
       "<Figure size 360x360 with 1 Axes>"
      ]
     },
     "metadata": {
      "needs_background": "light"
     },
     "output_type": "display_data"
    },
    {
     "data": {
      "image/png": "[encoded data removed]",
      "text/plain": [
       "<Figure size 360x360 with 1 Axes>"
      ]
     },
     "metadata": {
      "needs_background": "light"
     },
     "output_type": "display_data"
    }
   ],
   "source": [
    "features = list(df.columns)\n",
    "\n",
    "def displot(feature_1):\n",
    "    for f in features:\n",
    "        if f == feature_1:\n",
    "            sns.displot(df, x=df[f])\n",
    "    return plt.show()\n",
    "print(\"\\n\", '\\033[1m' + 'Sample Graphs' + '\\033[0m')\n",
    "displot(\"V1\")\n",
    "displot(\"V10\")\n",
    "displot(\"Time\")"
   ]
  },
  {
   "cell_type": "markdown",
   "id": "9b02eceb",
   "metadata": {},
   "source": [
    "### UNDERSAMPLING APPROACH"
   ]
  },
  {
   "cell_type": "markdown",
   "id": "1752bba8",
   "metadata": {},
   "source": [
    "Since it is very evident our data distribution is imbalanced, one technique we can use is the Undersampling approach. \n",
    "\n",
    "Undersampling is a technique used to balance the class distribution of the dataset into decreasing the size of the dominant class (Valid or Non-Fraudalent). This approach is helpful in balancing the dataset by not creating a bias favoring the majority class. The technique randomly removes instances from the majority class until it reaches the same size as the minority class.\n",
    "\n",
    "We balanced our dataset by randomly getting 473 samples from the Valid or Non-Fraudulent data to equalize our Fraud data."
   ]
  },
  {
   "cell_type": "code",
   "execution_count": 13,
   "id": "979e774d",
   "metadata": {},
   "outputs": [],
   "source": [
    "# Creating samples for valid dataet\n",
    "\n",
    "valid_samples = valid.sample(len(fraud))"
   ]
  },
  {
   "cell_type": "code",
   "execution_count": 14,
   "id": "12028b21",
   "metadata": {},
   "outputs": [],
   "source": [
    "#Creating a new dataframe\n",
    "\n",
    "df_new= pd.concat([valid_samples , fraud], axis=0)"
   ]
  },
  {
   "cell_type": "code",
   "execution_count": 15,
   "id": "d91657a1",
   "metadata": {},
   "outputs": [
    {
     "data": {
      "text/html": [
       "<div>\n",
       "<style scoped>\n",
       "    .dataframe tbody tr th:only-of-type {\n",
       "        vertical-align: middle;\n",
       "    }\n",
       "\n",
       "    .dataframe tbody tr th {\n",
       "        vertical-align: top;\n",
       "    }\n",
       "\n",
       "    .dataframe thead th {\n",
       "        text-align: right;\n",
       "    }\n",
       "</style>\n",
       "<table border=\"1\" class=\"dataframe\">\n",
       "  <thead>\n",
       "    <tr style=\"text-align: right;\">\n",
       "      <th></th>\n",
       "      <th>Time</th>\n",
       "      <th>V1</th>\n",
       "      <th>V2</th>\n",
       "      <th>V3</th>\n",
       "      <th>V4</th>\n",
       "      <th>V5</th>\n",
       "      <th>V6</th>\n",
       "      <th>V7</th>\n",
       "      <th>V8</th>\n",
       "      <th>V9</th>\n",
       "      <th>...</th>\n",
       "      <th>V22</th>\n",
       "      <th>V23</th>\n",
       "      <th>V24</th>\n",
       "      <th>V25</th>\n",
       "      <th>V26</th>\n",
       "      <th>V27</th>\n",
       "      <th>V28</th>\n",
       "      <th>Amount</th>\n",
       "      <th>Class</th>\n",
       "      <th>Transaction</th>\n",
       "    </tr>\n",
       "  </thead>\n",
       "  <tbody>\n",
       "    <tr>\n",
       "      <th>172210</th>\n",
       "      <td>121002.0</td>\n",
       "      <td>2.007302</td>\n",
       "      <td>-0.525047</td>\n",
       "      <td>-2.480850</td>\n",
       "      <td>-0.422592</td>\n",
       "      <td>2.280889</td>\n",
       "      <td>3.595314</td>\n",
       "      <td>-0.629726</td>\n",
       "      <td>0.848890</td>\n",
       "      <td>0.718839</td>\n",
       "      <td>...</td>\n",
       "      <td>0.367625</td>\n",
       "      <td>0.088815</td>\n",
       "      <td>0.767424</td>\n",
       "      <td>0.161005</td>\n",
       "      <td>0.476819</td>\n",
       "      <td>-0.030004</td>\n",
       "      <td>-0.069919</td>\n",
       "      <td>12.95</td>\n",
       "      <td>0</td>\n",
       "      <td>Valid</td>\n",
       "    </tr>\n",
       "    <tr>\n",
       "      <th>236993</th>\n",
       "      <td>149049.0</td>\n",
       "      <td>-1.280318</td>\n",
       "      <td>-0.087566</td>\n",
       "      <td>2.494241</td>\n",
       "      <td>-3.280794</td>\n",
       "      <td>-1.373838</td>\n",
       "      <td>-0.134677</td>\n",
       "      <td>-0.675136</td>\n",
       "      <td>0.760674</td>\n",
       "      <td>2.905449</td>\n",
       "      <td>...</td>\n",
       "      <td>0.895910</td>\n",
       "      <td>-0.557862</td>\n",
       "      <td>0.087313</td>\n",
       "      <td>0.977593</td>\n",
       "      <td>-0.714053</td>\n",
       "      <td>0.022462</td>\n",
       "      <td>-0.004062</td>\n",
       "      <td>7.39</td>\n",
       "      <td>0</td>\n",
       "      <td>Valid</td>\n",
       "    </tr>\n",
       "    <tr>\n",
       "      <th>41517</th>\n",
       "      <td>40716.0</td>\n",
       "      <td>-0.698996</td>\n",
       "      <td>-0.061182</td>\n",
       "      <td>2.097679</td>\n",
       "      <td>0.114531</td>\n",
       "      <td>-0.225816</td>\n",
       "      <td>0.437442</td>\n",
       "      <td>0.620930</td>\n",
       "      <td>-0.056715</td>\n",
       "      <td>0.408257</td>\n",
       "      <td>...</td>\n",
       "      <td>0.036144</td>\n",
       "      <td>0.072101</td>\n",
       "      <td>-0.432694</td>\n",
       "      <td>-0.120307</td>\n",
       "      <td>0.288097</td>\n",
       "      <td>-0.102376</td>\n",
       "      <td>-0.091187</td>\n",
       "      <td>142.93</td>\n",
       "      <td>0</td>\n",
       "      <td>Valid</td>\n",
       "    </tr>\n",
       "    <tr>\n",
       "      <th>23715</th>\n",
       "      <td>32879.0</td>\n",
       "      <td>-0.726208</td>\n",
       "      <td>0.550981</td>\n",
       "      <td>2.875002</td>\n",
       "      <td>2.540939</td>\n",
       "      <td>0.062149</td>\n",
       "      <td>1.021683</td>\n",
       "      <td>-0.511044</td>\n",
       "      <td>0.423209</td>\n",
       "      <td>-0.645433</td>\n",
       "      <td>...</td>\n",
       "      <td>0.671857</td>\n",
       "      <td>-0.338587</td>\n",
       "      <td>-0.532720</td>\n",
       "      <td>0.020799</td>\n",
       "      <td>0.424391</td>\n",
       "      <td>0.183377</td>\n",
       "      <td>-0.071152</td>\n",
       "      <td>8.05</td>\n",
       "      <td>0</td>\n",
       "      <td>Valid</td>\n",
       "    </tr>\n",
       "    <tr>\n",
       "      <th>77346</th>\n",
       "      <td>57007.0</td>\n",
       "      <td>1.032000</td>\n",
       "      <td>-0.040059</td>\n",
       "      <td>0.060745</td>\n",
       "      <td>1.010354</td>\n",
       "      <td>-0.186277</td>\n",
       "      <td>-0.428801</td>\n",
       "      <td>0.213690</td>\n",
       "      <td>-0.068602</td>\n",
       "      <td>-0.206484</td>\n",
       "      <td>...</td>\n",
       "      <td>0.093929</td>\n",
       "      <td>-0.234888</td>\n",
       "      <td>0.009944</td>\n",
       "      <td>0.651367</td>\n",
       "      <td>-0.334818</td>\n",
       "      <td>-0.011890</td>\n",
       "      <td>0.023337</td>\n",
       "      <td>103.86</td>\n",
       "      <td>0</td>\n",
       "      <td>Valid</td>\n",
       "    </tr>\n",
       "  </tbody>\n",
       "</table>\n",
       "<p>5 rows × 32 columns</p>\n",
       "</div>"
      ],
      "text/plain": [
       "            Time        V1        V2        V3        V4        V5        V6  \\\n",
       "172210  121002.0  2.007302 -0.525047 -2.480850 -0.422592  2.280889  3.595314   \n",
       "236993  149049.0 -1.280318 -0.087566  2.494241 -3.280794 -1.373838 -0.134677   \n",
       "41517    40716.0 -0.698996 -0.061182  2.097679  0.114531 -0.225816  0.437442   \n",
       "23715    32879.0 -0.726208  0.550981  2.875002  2.540939  0.062149  1.021683   \n",
       "77346    57007.0  1.032000 -0.040059  0.060745  1.010354 -0.186277 -0.428801   \n",
       "\n",
       "              V7        V8        V9  ...       V22       V23       V24  \\\n",
       "172210 -0.629726  0.848890  0.718839  ...  0.367625  0.088815  0.767424   \n",
       "236993 -0.675136  0.760674  2.905449  ...  0.895910 -0.557862  0.087313   \n",
       "41517   0.620930 -0.056715  0.408257  ...  0.036144  0.072101 -0.432694   \n",
       "23715  -0.511044  0.423209 -0.645433  ...  0.671857 -0.338587 -0.532720   \n",
       "77346   0.213690 -0.068602 -0.206484  ...  0.093929 -0.234888  0.009944   \n",
       "\n",
       "             V25       V26       V27       V28  Amount  Class  Transaction  \n",
       "172210  0.161005  0.476819 -0.030004 -0.069919   12.95      0        Valid  \n",
       "236993  0.977593 -0.714053  0.022462 -0.004062    7.39      0        Valid  \n",
       "41517  -0.120307  0.288097 -0.102376 -0.091187  142.93      0        Valid  \n",
       "23715   0.020799  0.424391  0.183377 -0.071152    8.05      0        Valid  \n",
       "77346   0.651367 -0.334818 -0.011890  0.023337  103.86      0        Valid  \n",
       "\n",
       "[5 rows x 32 columns]"
      ]
     },
     "execution_count": 15,
     "metadata": {},
     "output_type": "execute_result"
    }
   ],
   "source": [
    "df_new.head()"
   ]
  },
  {
   "cell_type": "code",
   "execution_count": 16,
   "id": "e7878df3",
   "metadata": {},
   "outputs": [
    {
     "data": {
      "text/plain": [
       "0    473\n",
       "1    473\n",
       "Name: Class, dtype: int64"
      ]
     },
     "execution_count": 16,
     "metadata": {},
     "output_type": "execute_result"
    }
   ],
   "source": [
    "# Checking data if it is equally distributed per Class\n",
    "\n",
    "df_new['Class'].value_counts()"
   ]
  },
  {
   "cell_type": "code",
   "execution_count": 17,
   "id": "8c870a13",
   "metadata": {},
   "outputs": [
    {
     "name": "stdout",
     "output_type": "stream",
     "text": [
      "\u001b[1mValid transaction data shape\u001b[0m\n",
      "\n",
      " (473, 32)\n",
      "\n",
      " \u001b[1mFraud transaction data shape\u001b[0m\n",
      "\n",
      " (473, 32)\n"
     ]
    }
   ],
   "source": [
    "# Checking the number of rows and columns our new dataset contains\n",
    "\n",
    "valid = df_new[df_new.Class == 0]\n",
    "fraud = df_new[df_new.Class == 1]\n",
    "\n",
    "print('\\033[1m' + 'Valid transaction data shape' + '\\033[0m')\n",
    "print(\"\\n\",valid.shape)\n",
    "print(\"\\n\",'\\033[1m' + 'Fraud transaction data shape' + '\\033[0m')\n",
    "print(\"\\n\",fraud.shape)"
   ]
  },
  {
   "cell_type": "code",
   "execution_count": 18,
   "id": "b98e41cf",
   "metadata": {},
   "outputs": [
    {
     "name": "stdout",
     "output_type": "stream",
     "text": [
      "\n",
      " \u001b[1mThe percentage of the recorded transactions:\u001b[0m\n",
      "\n",
      " 50% are valid \n",
      " 50% are fraudulent\n",
      "\n",
      " -----------------------------------------------\n"
     ]
    },
    {
     "data": {
      "text/plain": [
       "Text(0.5, 1.0, 'Data Distribution')"
      ]
     },
     "execution_count": 18,
     "metadata": {},
     "output_type": "execute_result"
    },
    {
     "data": {
      "image/png": "[encoded data removed]",
      "text/plain": [
       "<Figure size 432x576 with 1 Axes>"
      ]
     },
     "metadata": {},
     "output_type": "display_data"
    }
   ],
   "source": [
    "print(\"\\n\", '\\033[1m' + 'The percentage of the recorded transactions:' + '\\033[0m')\n",
    "print(\"\\n\",\"50% are valid\", \"\\n\", \"50% are fraudulent\")\n",
    "print(\"\\n\", \"-----------------------------------------------\")\n",
    "df_new.groupby('Class').size().plot(kind='pie', autopct='%.1f%%',figsize=(6, 8),textprops={'size': 'large'},wedgeprops={'linewidth': 2.0})\n",
    "plt.title('Data Distribution', size = 20)"
   ]
  },
  {
   "cell_type": "code",
   "execution_count": 19,
   "id": "7ebee16d",
   "metadata": {},
   "outputs": [
    {
     "data": {
      "text/html": [
       "<div>\n",
       "<style scoped>\n",
       "    .dataframe tbody tr th:only-of-type {\n",
       "        vertical-align: middle;\n",
       "    }\n",
       "\n",
       "    .dataframe tbody tr th {\n",
       "        vertical-align: top;\n",
       "    }\n",
       "\n",
       "    .dataframe thead th {\n",
       "        text-align: right;\n",
       "    }\n",
       "</style>\n",
       "<table border=\"1\" class=\"dataframe\">\n",
       "  <thead>\n",
       "    <tr style=\"text-align: right;\">\n",
       "      <th></th>\n",
       "      <th>Time</th>\n",
       "      <th>V1</th>\n",
       "      <th>V2</th>\n",
       "      <th>V3</th>\n",
       "      <th>V4</th>\n",
       "      <th>V5</th>\n",
       "      <th>V6</th>\n",
       "      <th>V7</th>\n",
       "      <th>V8</th>\n",
       "      <th>V9</th>\n",
       "      <th>...</th>\n",
       "      <th>V20</th>\n",
       "      <th>V21</th>\n",
       "      <th>V22</th>\n",
       "      <th>V23</th>\n",
       "      <th>V24</th>\n",
       "      <th>V25</th>\n",
       "      <th>V26</th>\n",
       "      <th>V27</th>\n",
       "      <th>V28</th>\n",
       "      <th>Amount</th>\n",
       "    </tr>\n",
       "    <tr>\n",
       "      <th>Class</th>\n",
       "      <th></th>\n",
       "      <th></th>\n",
       "      <th></th>\n",
       "      <th></th>\n",
       "      <th></th>\n",
       "      <th></th>\n",
       "      <th></th>\n",
       "      <th></th>\n",
       "      <th></th>\n",
       "      <th></th>\n",
       "      <th></th>\n",
       "      <th></th>\n",
       "      <th></th>\n",
       "      <th></th>\n",
       "      <th></th>\n",
       "      <th></th>\n",
       "      <th></th>\n",
       "      <th></th>\n",
       "      <th></th>\n",
       "      <th></th>\n",
       "      <th></th>\n",
       "    </tr>\n",
       "  </thead>\n",
       "  <tbody>\n",
       "    <tr>\n",
       "      <th>0</th>\n",
       "      <td>94995.260042</td>\n",
       "      <td>-0.035454</td>\n",
       "      <td>-0.040938</td>\n",
       "      <td>0.112180</td>\n",
       "      <td>0.012200</td>\n",
       "      <td>0.102843</td>\n",
       "      <td>-0.032938</td>\n",
       "      <td>0.036934</td>\n",
       "      <td>-0.043097</td>\n",
       "      <td>-0.032600</td>\n",
       "      <td>...</td>\n",
       "      <td>-0.015531</td>\n",
       "      <td>0.037769</td>\n",
       "      <td>-0.009404</td>\n",
       "      <td>0.018863</td>\n",
       "      <td>-0.004775</td>\n",
       "      <td>0.007225</td>\n",
       "      <td>0.061434</td>\n",
       "      <td>-0.039803</td>\n",
       "      <td>-0.013069</td>\n",
       "      <td>83.387759</td>\n",
       "    </tr>\n",
       "    <tr>\n",
       "      <th>1</th>\n",
       "      <td>80450.513742</td>\n",
       "      <td>-4.498280</td>\n",
       "      <td>3.405965</td>\n",
       "      <td>-6.729599</td>\n",
       "      <td>4.472591</td>\n",
       "      <td>-2.957197</td>\n",
       "      <td>-1.432518</td>\n",
       "      <td>-5.175912</td>\n",
       "      <td>0.953255</td>\n",
       "      <td>-2.522124</td>\n",
       "      <td>...</td>\n",
       "      <td>0.405043</td>\n",
       "      <td>0.466550</td>\n",
       "      <td>0.086639</td>\n",
       "      <td>-0.096464</td>\n",
       "      <td>-0.106643</td>\n",
       "      <td>0.040615</td>\n",
       "      <td>0.050456</td>\n",
       "      <td>0.213774</td>\n",
       "      <td>0.078270</td>\n",
       "      <td>123.871860</td>\n",
       "    </tr>\n",
       "  </tbody>\n",
       "</table>\n",
       "<p>2 rows × 30 columns</p>\n",
       "</div>"
      ],
      "text/plain": [
       "               Time        V1        V2        V3        V4        V5  \\\n",
       "Class                                                                   \n",
       "0      94995.260042 -0.035454 -0.040938  0.112180  0.012200  0.102843   \n",
       "1      80450.513742 -4.498280  3.405965 -6.729599  4.472591 -2.957197   \n",
       "\n",
       "             V6        V7        V8        V9  ...       V20       V21  \\\n",
       "Class                                          ...                       \n",
       "0     -0.032938  0.036934 -0.043097 -0.032600  ... -0.015531  0.037769   \n",
       "1     -1.432518 -5.175912  0.953255 -2.522124  ...  0.405043  0.466550   \n",
       "\n",
       "            V22       V23       V24       V25       V26       V27       V28  \\\n",
       "Class                                                                         \n",
       "0     -0.009404  0.018863 -0.004775  0.007225  0.061434 -0.039803 -0.013069   \n",
       "1      0.086639 -0.096464 -0.106643  0.040615  0.050456  0.213774  0.078270   \n",
       "\n",
       "           Amount  \n",
       "Class              \n",
       "0       83.387759  \n",
       "1      123.871860  \n",
       "\n",
       "[2 rows x 30 columns]"
      ]
     },
     "execution_count": 19,
     "metadata": {},
     "output_type": "execute_result"
    }
   ],
   "source": [
    "# Checking the average of each class per column.\n",
    "\n",
    "df_new.groupby('Class').mean()"
   ]
  },
  {
   "cell_type": "markdown",
   "id": "dee7970a",
   "metadata": {},
   "source": [
    "### LOGISTIC REGRESSION"
   ]
  },
  {
   "cell_type": "markdown",
   "id": "d10f4721",
   "metadata": {},
   "source": [
    "Logistic Regression is commonly used for binary classification problems where the outcome is either 1 or 0. It models the relationship between the dependent variable and independent variables as a logistic function, producing probabilities of the outcomes."
   ]
  },
  {
   "cell_type": "code",
   "execution_count": 20,
   "id": "82c56516",
   "metadata": {},
   "outputs": [],
   "source": [
    "# Assigning x and y variables\n",
    "\n",
    "x = df_new.drop(columns=['Class', \"Transaction\"], axis=1)\n",
    "y = df_new['Transaction']"
   ]
  },
  {
   "cell_type": "markdown",
   "id": "f792cc6d",
   "metadata": {},
   "source": [
    "#### Splitting data into test and training set for modeling.\n",
    "\n",
    "Splitting the data into training and test sets is a very important part of the machine learning process. It helps us make sure that the models we build are evaluated properly and chosen fairly, without any biases."
   ]
  },
  {
   "cell_type": "code",
   "execution_count": 21,
   "id": "67648a5c",
   "metadata": {},
   "outputs": [
    {
     "data": {
      "text/html": [
       "<style>#sk-container-id-1 {color: black;background-color: white;}#sk-container-id-1 pre{padding: 0;}#sk-container-id-1 div.sk-toggleable {background-color: white;}#sk-container-id-1 label.sk-toggleable__label {cursor: pointer;display: block;width: 100%;margin-bottom: 0;padding: 0.3em;box-sizing: border-box;text-align: center;}#sk-container-id-1 label.sk-toggleable__label-arrow:before {content: \"▸\";float: left;margin-right: 0.25em;color: #696969;}#sk-container-id-1 label.sk-toggleable__label-arrow:hover:before {color: black;}#sk-container-id-1 div.sk-estimator:hover label.sk-toggleable__label-arrow:before {color: black;}#sk-container-id-1 div.sk-toggleable__content {max-height: 0;max-width: 0;overflow: hidden;text-align: left;background-color: #f0f8ff;}#sk-container-id-1 div.sk-toggleable__content pre {margin: 0.2em;color: black;border-radius: 0.25em;background-color: #f0f8ff;}#sk-container-id-1 input.sk-toggleable__control:checked~div.sk-toggleable__content {max-height: 200px;max-width: 100%;overflow: auto;}#sk-container-id-1 input.sk-toggleable__control:checked~label.sk-toggleable__label-arrow:before {content: \"▾\";}#sk-container-id-1 div.sk-estimator input.sk-toggleable__control:checked~label.sk-toggleable__label {background-color: #d4ebff;}#sk-container-id-1 div.sk-label input.sk-toggleable__control:checked~label.sk-toggleable__label {background-color: #d4ebff;}#sk-container-id-1 input.sk-hidden--visually {border: 0;clip: rect(1px 1px 1px 1px);clip: rect(1px, 1px, 1px, 1px);height: 1px;margin: -1px;overflow: hidden;padding: 0;position: absolute;width: 1px;}#sk-container-id-1 div.sk-estimator {font-family: monospace;background-color: #f0f8ff;border: 1px dotted black;border-radius: 0.25em;box-sizing: border-box;margin-bottom: 0.5em;}#sk-container-id-1 div.sk-estimator:hover {background-color: #d4ebff;}#sk-container-id-1 div.sk-parallel-item::after {content: \"\";width: 100%;border-bottom: 1px solid gray;flex-grow: 1;}#sk-container-id-1 div.sk-label:hover label.sk-toggleable__label {background-color: #d4ebff;}#sk-container-id-1 div.sk-serial::before {content: \"\";position: absolute;border-left: 1px solid gray;box-sizing: border-box;top: 0;bottom: 0;left: 50%;z-index: 0;}#sk-container-id-1 div.sk-serial {display: flex;flex-direction: column;align-items: center;background-color: white;padding-right: 0.2em;padding-left: 0.2em;position: relative;}#sk-container-id-1 div.sk-item {position: relative;z-index: 1;}#sk-container-id-1 div.sk-parallel {display: flex;align-items: stretch;justify-content: center;background-color: white;position: relative;}#sk-container-id-1 div.sk-item::before, #sk-container-id-1 div.sk-parallel-item::before {content: \"\";position: absolute;border-left: 1px solid gray;box-sizing: border-box;top: 0;bottom: 0;left: 50%;z-index: -1;}#sk-container-id-1 div.sk-parallel-item {display: flex;flex-direction: column;z-index: 1;position: relative;background-color: white;}#sk-container-id-1 div.sk-parallel-item:first-child::after {align-self: flex-end;width: 50%;}#sk-container-id-1 div.sk-parallel-item:last-child::after {align-self: flex-start;width: 50%;}#sk-container-id-1 div.sk-parallel-item:only-child::after {width: 0;}#sk-container-id-1 div.sk-dashed-wrapped {border: 1px dashed gray;margin: 0 0.4em 0.5em 0.4em;box-sizing: border-box;padding-bottom: 0.4em;background-color: white;}#sk-container-id-1 div.sk-label label {font-family: monospace;font-weight: bold;display: inline-block;line-height: 1.2em;}#sk-container-id-1 div.sk-label-container {text-align: center;}#sk-container-id-1 div.sk-container {/* jupyter's `normalize.less` sets `[hidden] { display: none; }` but bootstrap.min.css set `[hidden] { display: none !important; }` so we also need the `!important` here to be able to override the default hidden behavior on the sphinx rendered scikit-learn.org. See: https://github.com/scikit-learn/scikit-learn/issues/21755 */display: inline-block !important;position: relative;}#sk-container-id-1 div.sk-text-repr-fallback {display: none;}</style><div id=\"sk-container-id-1\" class=\"sk-top-container\"><div class=\"sk-text-repr-fallback\"><pre>LogisticRegression(max_iter=4000)</pre><b>In a Jupyter environment, please rerun this cell to show the HTML representation or trust the notebook. <br />On GitHub, the HTML representation is unable to render, please try loading this page with nbviewer.org.</b></div><div class=\"sk-container\" hidden><div class=\"sk-item\"><div class=\"sk-estimator sk-toggleable\"><input class=\"sk-toggleable__control sk-hidden--visually\" id=\"sk-estimator-id-1\" type=\"checkbox\" checked><label for=\"sk-estimator-id-1\" class=\"sk-toggleable__label sk-toggleable__label-arrow\">LogisticRegression</label><div class=\"sk-toggleable__content\"><pre>LogisticRegression(max_iter=4000)</pre></div></div></div></div></div>"
      ],
      "text/plain": [
       "LogisticRegression(max_iter=4000)"
      ]
     },
     "execution_count": 21,
     "metadata": {},
     "output_type": "execute_result"
    }
   ],
   "source": [
    "# Splitting data into test and train\n",
    "# Stratify helps balance split data\n",
    "\n",
    "X_training_data, X_testing_data, y_training_data, y_testing_data = train_test_split(x, y, test_size=0.2,stratify=y,random_state=42)\n",
    "logreg = LogisticRegression(max_iter = 4000)\n",
    "logreg.fit(X_training_data, y_training_data)\n"
   ]
  },
  {
   "cell_type": "code",
   "execution_count": 22,
   "id": "ac511e14",
   "metadata": {},
   "outputs": [
    {
     "name": "stdout",
     "output_type": "stream",
     "text": [
      "\u001b[1mX data shape\u001b[0m (946, 30)\n",
      "\u001b[1mX train data shape\u001b[0m (756, 30)\n",
      "\u001b[1mX test data shape\u001b[0m (190, 30)\n"
     ]
    }
   ],
   "source": [
    "# Checking data distribution form original x into x train and x test\n",
    "\n",
    "print('\\033[1m' + 'X data shape' + '\\033[0m',x.shape)\n",
    "print('\\033[1m' + 'X train data shape' + '\\033[0m',X_training_data.shape)\n",
    "print('\\033[1m' + 'X test data shape' + '\\033[0m',X_testing_data.shape)"
   ]
  },
  {
   "cell_type": "code",
   "execution_count": 23,
   "id": "7a178a91",
   "metadata": {},
   "outputs": [
    {
     "name": "stdout",
     "output_type": "stream",
     "text": [
      "Accuracy of logistic regression classifier on train set: 0.94\n",
      "Accuracy of logistic regression classifier on test set: 0.92\n"
     ]
    }
   ],
   "source": [
    "# Checking accuracy scores for train and test dataset\n",
    "\n",
    "y_pred = logreg.predict(X_testing_data)\n",
    "print('Accuracy of logistic regression classifier on train set: {:.2f}'.format(logreg.score(X_training_data, y_training_data)))\n",
    "print('Accuracy of logistic regression classifier on test set: {:.2f}'.format(logreg.score(X_testing_data, y_testing_data)))"
   ]
  },
  {
   "cell_type": "code",
   "execution_count": 24,
   "id": "3856cfb8",
   "metadata": {},
   "outputs": [
    {
     "name": "stdout",
     "output_type": "stream",
     "text": [
      "\u001b[1mCONFUSION MATRIX:\u001b[0m\n",
      "\n",
      " [[82 13]\n",
      " [ 2 93]]\n"
     ]
    }
   ],
   "source": [
    "# Checking confusion matrix results\n",
    "\n",
    "confused = confusion_matrix(y_testing_data,y_pred)\n",
    "print('\\033[1m' + 'CONFUSION MATRIX:' + '\\033[0m')\n",
    "print(\"\\n\", confused)\n"
   ]
  },
  {
   "cell_type": "code",
   "execution_count": 25,
   "id": "ce252f83",
   "metadata": {
    "scrolled": false
   },
   "outputs": [
    {
     "name": "stdout",
     "output_type": "stream",
     "text": [
      "\n",
      " \u001b[1mCLASSIFICATION REPORT:\u001b[0m \n",
      "\n",
      "              precision    recall  f1-score   support\n",
      "\n",
      "       Fraud       0.98      0.86      0.92        95\n",
      "       Valid       0.88      0.98      0.93        95\n",
      "\n",
      "    accuracy                           0.92       190\n",
      "   macro avg       0.93      0.92      0.92       190\n",
      "weighted avg       0.93      0.92      0.92       190\n",
      "\n"
     ]
    }
   ],
   "source": [
    "# Checking classification report results\n",
    "\n",
    "print(\"\\n\", '\\033[1m' + 'CLASSIFICATION REPORT:' + '\\033[0m', \"\\n\")\n",
    "print(classification_report(y_testing_data,y_pred))"
   ]
  },
  {
   "cell_type": "code",
   "execution_count": 26,
   "id": "f0988d5d",
   "metadata": {},
   "outputs": [
    {
     "name": "stdout",
     "output_type": "stream",
     "text": [
      "\n",
      " \u001b[1mSample Prediction of Logistic Regression:\u001b[0m \n",
      "\n",
      "['Valid']\n"
     ]
    },
    {
     "name": "stderr",
     "output_type": "stream",
     "text": [
      "/Users/sarbjitmadra/opt/anaconda3/lib/python3.9/site-packages/sklearn/base.py:450: UserWarning: X does not have valid feature names, but LogisticRegression was fitted with feature names\n",
      "  warnings.warn(\n"
     ]
    }
   ],
   "source": [
    "# Checking model predictions\n",
    "\n",
    "print(\"\\n\", '\\033[1m' + 'Sample Prediction of Logistic Regression:' + '\\033[0m', \"\\n\")\n",
    "\n",
    "features = np.array([[120331.0, 2.079955, -1.531944, -0.868426, 2.625675, -0.407193, 1.800499,0.592941, 0.708417,\n",
    "                      0.432454, -0.054952, -1.593105, 0.538196,-0.991390,-1.119670, -1.119670, -0.510602,1.991691,\n",
    "                      0.313502, -1.232622, -0.682920, 0.261057, 0.798278, 0.012463, -0.037501, -0.037501, 0.376777, \n",
    "                      -0.055353, 0.133558,378.66]])\n",
    "print(logreg.predict(features))"
   ]
  },
  {
   "cell_type": "markdown",
   "id": "b94af809",
   "metadata": {},
   "source": [
    "**-------------------------------------------------------------------------------------------------------------------------------------------------------**"
   ]
  },
  {
   "cell_type": "markdown",
   "id": "eb40576f",
   "metadata": {},
   "source": [
    "### DECISION TREE"
   ]
  },
  {
   "cell_type": "markdown",
   "id": "0eb1acf7",
   "metadata": {},
   "source": [
    "There are alot of other approaches that we can use to train our model and one of them is: Decision Tree. It is a method for making predictions or decisions by breaking down a problem into smaller, simpler decisions based on certain conditions. The final outcome is a prediction or decision based on all the previous decisions made along the way."
   ]
  },
  {
   "cell_type": "code",
   "execution_count": 27,
   "id": "9ae15a2f",
   "metadata": {},
   "outputs": [
    {
     "data": {
      "text/html": [
       "<style>#sk-container-id-2 {color: black;background-color: white;}#sk-container-id-2 pre{padding: 0;}#sk-container-id-2 div.sk-toggleable {background-color: white;}#sk-container-id-2 label.sk-toggleable__label {cursor: pointer;display: block;width: 100%;margin-bottom: 0;padding: 0.3em;box-sizing: border-box;text-align: center;}#sk-container-id-2 label.sk-toggleable__label-arrow:before {content: \"▸\";float: left;margin-right: 0.25em;color: #696969;}#sk-container-id-2 label.sk-toggleable__label-arrow:hover:before {color: black;}#sk-container-id-2 div.sk-estimator:hover label.sk-toggleable__label-arrow:before {color: black;}#sk-container-id-2 div.sk-toggleable__content {max-height: 0;max-width: 0;overflow: hidden;text-align: left;background-color: #f0f8ff;}#sk-container-id-2 div.sk-toggleable__content pre {margin: 0.2em;color: black;border-radius: 0.25em;background-color: #f0f8ff;}#sk-container-id-2 input.sk-toggleable__control:checked~div.sk-toggleable__content {max-height: 200px;max-width: 100%;overflow: auto;}#sk-container-id-2 input.sk-toggleable__control:checked~label.sk-toggleable__label-arrow:before {content: \"▾\";}#sk-container-id-2 div.sk-estimator input.sk-toggleable__control:checked~label.sk-toggleable__label {background-color: #d4ebff;}#sk-container-id-2 div.sk-label input.sk-toggleable__control:checked~label.sk-toggleable__label {background-color: #d4ebff;}#sk-container-id-2 input.sk-hidden--visually {border: 0;clip: rect(1px 1px 1px 1px);clip: rect(1px, 1px, 1px, 1px);height: 1px;margin: -1px;overflow: hidden;padding: 0;position: absolute;width: 1px;}#sk-container-id-2 div.sk-estimator {font-family: monospace;background-color: #f0f8ff;border: 1px dotted black;border-radius: 0.25em;box-sizing: border-box;margin-bottom: 0.5em;}#sk-container-id-2 div.sk-estimator:hover {background-color: #d4ebff;}#sk-container-id-2 div.sk-parallel-item::after {content: \"\";width: 100%;border-bottom: 1px solid gray;flex-grow: 1;}#sk-container-id-2 div.sk-label:hover label.sk-toggleable__label {background-color: #d4ebff;}#sk-container-id-2 div.sk-serial::before {content: \"\";position: absolute;border-left: 1px solid gray;box-sizing: border-box;top: 0;bottom: 0;left: 50%;z-index: 0;}#sk-container-id-2 div.sk-serial {display: flex;flex-direction: column;align-items: center;background-color: white;padding-right: 0.2em;padding-left: 0.2em;position: relative;}#sk-container-id-2 div.sk-item {position: relative;z-index: 1;}#sk-container-id-2 div.sk-parallel {display: flex;align-items: stretch;justify-content: center;background-color: white;position: relative;}#sk-container-id-2 div.sk-item::before, #sk-container-id-2 div.sk-parallel-item::before {content: \"\";position: absolute;border-left: 1px solid gray;box-sizing: border-box;top: 0;bottom: 0;left: 50%;z-index: -1;}#sk-container-id-2 div.sk-parallel-item {display: flex;flex-direction: column;z-index: 1;position: relative;background-color: white;}#sk-container-id-2 div.sk-parallel-item:first-child::after {align-self: flex-end;width: 50%;}#sk-container-id-2 div.sk-parallel-item:last-child::after {align-self: flex-start;width: 50%;}#sk-container-id-2 div.sk-parallel-item:only-child::after {width: 0;}#sk-container-id-2 div.sk-dashed-wrapped {border: 1px dashed gray;margin: 0 0.4em 0.5em 0.4em;box-sizing: border-box;padding-bottom: 0.4em;background-color: white;}#sk-container-id-2 div.sk-label label {font-family: monospace;font-weight: bold;display: inline-block;line-height: 1.2em;}#sk-container-id-2 div.sk-label-container {text-align: center;}#sk-container-id-2 div.sk-container {/* jupyter's `normalize.less` sets `[hidden] { display: none; }` but bootstrap.min.css set `[hidden] { display: none !important; }` so we also need the `!important` here to be able to override the default hidden behavior on the sphinx rendered scikit-learn.org. See: https://github.com/scikit-learn/scikit-learn/issues/21755 */display: inline-block !important;position: relative;}#sk-container-id-2 div.sk-text-repr-fallback {display: none;}</style><div id=\"sk-container-id-2\" class=\"sk-top-container\"><div class=\"sk-text-repr-fallback\"><pre>DecisionTreeClassifier()</pre><b>In a Jupyter environment, please rerun this cell to show the HTML representation or trust the notebook. <br />On GitHub, the HTML representation is unable to render, please try loading this page with nbviewer.org.</b></div><div class=\"sk-container\" hidden><div class=\"sk-item\"><div class=\"sk-estimator sk-toggleable\"><input class=\"sk-toggleable__control sk-hidden--visually\" id=\"sk-estimator-id-2\" type=\"checkbox\" checked><label for=\"sk-estimator-id-2\" class=\"sk-toggleable__label sk-toggleable__label-arrow\">DecisionTreeClassifier</label><div class=\"sk-toggleable__content\"><pre>DecisionTreeClassifier()</pre></div></div></div></div></div>"
      ],
      "text/plain": [
       "DecisionTreeClassifier()"
      ]
     },
     "execution_count": 27,
     "metadata": {},
     "output_type": "execute_result"
    }
   ],
   "source": [
    "xtrain, xtest, ytrain, ytest = train_test_split(x, y, test_size=0.2,stratify=y,random_state=42)\n",
    "dtree = DecisionTreeClassifier()\n",
    "dtree.fit(xtrain, ytrain)"
   ]
  },
  {
   "cell_type": "code",
   "execution_count": 28,
   "id": "2def8ccc",
   "metadata": {},
   "outputs": [
    {
     "name": "stdout",
     "output_type": "stream",
     "text": [
      "\u001b[1mX data shape\u001b[0m (946, 30)\n",
      "\u001b[1mX train data shape\u001b[0m (756, 30)\n",
      "\u001b[1mX test data shape\u001b[0m (190, 30)\n"
     ]
    }
   ],
   "source": [
    "print('\\033[1m' + 'X data shape' + '\\033[0m',x.shape)\n",
    "print('\\033[1m' + 'X train data shape' + '\\033[0m',xtrain.shape)\n",
    "print('\\033[1m' + 'X test data shape' + '\\033[0m',xtest.shape)"
   ]
  },
  {
   "cell_type": "code",
   "execution_count": 29,
   "id": "2a27b906",
   "metadata": {},
   "outputs": [
    {
     "name": "stdout",
     "output_type": "stream",
     "text": [
      "Accuracy of logistic regression classifier on train set: 1.00\n",
      "Accuracy of logistic regression classifier on test set: 0.89\n"
     ]
    }
   ],
   "source": [
    "y_pred1 = dtree.predict(xtest)\n",
    "print('Accuracy of logistic regression classifier on train set: {:.2f}'.format(dtree.score(xtrain, ytrain)))\n",
    "print('Accuracy of logistic regression classifier on test set: {:.2f}'.format(dtree.score(xtest, ytest)))"
   ]
  },
  {
   "cell_type": "code",
   "execution_count": 30,
   "id": "1ee7d4a3",
   "metadata": {},
   "outputs": [
    {
     "name": "stdout",
     "output_type": "stream",
     "text": [
      "\u001b[1mCONFUSION MATRIX:\u001b[0m\n",
      "\n",
      " [[80 15]\n",
      " [ 6 89]]\n"
     ]
    }
   ],
   "source": [
    "confused = confusion_matrix(ytest,y_pred1)\n",
    "print('\\033[1m' + 'CONFUSION MATRIX:' + '\\033[0m')\n",
    "print(\"\\n\", confused)"
   ]
  },
  {
   "cell_type": "code",
   "execution_count": 31,
   "id": "fab63941",
   "metadata": {},
   "outputs": [
    {
     "name": "stdout",
     "output_type": "stream",
     "text": [
      "\n",
      " \u001b[1mCLASSIFICATION REPORT:\u001b[0m \n",
      "\n",
      "              precision    recall  f1-score   support\n",
      "\n",
      "       Fraud       0.93      0.84      0.88        95\n",
      "       Valid       0.86      0.94      0.89        95\n",
      "\n",
      "    accuracy                           0.89       190\n",
      "   macro avg       0.89      0.89      0.89       190\n",
      "weighted avg       0.89      0.89      0.89       190\n",
      "\n"
     ]
    }
   ],
   "source": [
    "print(\"\\n\", '\\033[1m' + 'CLASSIFICATION REPORT:' + '\\033[0m', \"\\n\")\n",
    "print(classification_report(ytest,y_pred1))"
   ]
  },
  {
   "cell_type": "code",
   "execution_count": 32,
   "id": "bf6d4f69",
   "metadata": {},
   "outputs": [
    {
     "name": "stdout",
     "output_type": "stream",
     "text": [
      "\n",
      " \u001b[1mSample Prediction with Decision Tree:\u001b[0m \n",
      "\n",
      "['Valid']\n"
     ]
    },
    {
     "name": "stderr",
     "output_type": "stream",
     "text": [
      "/Users/sarbjitmadra/opt/anaconda3/lib/python3.9/site-packages/sklearn/base.py:450: UserWarning: X does not have valid feature names, but DecisionTreeClassifier was fitted with feature names\n",
      "  warnings.warn(\n"
     ]
    }
   ],
   "source": [
    "print(\"\\n\", '\\033[1m' + 'Sample Prediction with Decision Tree:' + '\\033[0m', \"\\n\")\n",
    "print(dtree.predict(features))"
   ]
  },
  {
   "cell_type": "markdown",
   "id": "8fc3eb22",
   "metadata": {},
   "source": [
    "### CONCLUSION"
   ]
  },
  {
   "cell_type": "markdown",
   "id": "aff131e5",
   "metadata": {},
   "source": [
    "Both logistic regression and decision tree were used for credit card fraud detection, with logistic regression having an accuracy of 92% and decision tree having 89%. The use of undersampling approach in logistic regression improved its performance compared to decision tree. The logistic approach benefits banks by improving security, efficiency and customer experience, and also benefits customers by reducing false alarms and improving the overall credit card usage experience."
   ]
  },
  {
   "cell_type": "code",
   "execution_count": null,
   "id": "181a3fb0",
   "metadata": {},
   "outputs": [],
   "source": []
  }
 ],
 "metadata": {
  "kernelspec": {
   "display_name": "Python 3 (ipykernel)",
   "language": "python",
   "name": "python3"
  },
  "language_info": {
   "codemirror_mode": {
    "name": "ipython",
    "version": 3
   },
   "file_extension": ".py",
   "mimetype": "text/x-python",
   "name": "python",
   "nbconvert_exporter": "python",
   "pygments_lexer": "ipython3",
   "version": "3.9.7"
  }
 },
 "nbformat": 4,
 "nbformat_minor": 5
}
